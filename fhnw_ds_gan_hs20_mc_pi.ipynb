{
 "cells": [
  {
   "cell_type": "markdown",
   "metadata": {},
   "source": [
    "# Die Zahl Pi ($\\pi$)\n",
    "\n",
    "**Gruppe:** Alessio Lopo, Raphael Strebel, Pascal Berger, Jelle Schutter\n",
    "\n",
    "Die Zahl $\\pi$ ist eine mathematische Konstante, welche über das Verhältnis aus Umfang zu Durchmesser eines Kreises definiert ist:\n",
    "\n",
    "$$\\pi=\\frac{U}{d}$$\n",
    "\n",
    "$\\pi$ ist eine irrationale Zahl und wir können sie nur Näherungsweise als Dezimalzahl angeben (hier $\\pi$ mit den ersten $500$ Nachkommastellen):\n",
    "\n",
    "$$\\begin{eqnarray*}\n",
    "3.&&1415926535\\;8979323846\\;2643383279\\;5028841971\\;6939937510\\\\\n",
    "&&5820974944\\;5923078164\\;0628620899\\;8628034825\\;3421170679\\\\\n",
    "&&8214808651\\;3282306647\\;0938446095\\;5058223172\\;5359408128\\\\\n",
    "&&4811174502\\;8410270193\\;8521105559\\;6446229489\\;5493038196\\\\\n",
    "&&4428810975\\;6659334461\\;2847564823\\;3786783165\\;2712019091\\\\\n",
    "&&4564856692\\;3460348610\\;4543266482\\;1339360726\\;0249141273\\\\\n",
    "&&7245870066\\;0631558817\\;4881520920\\;9628292540\\;9171536436\\\\\n",
    "&&7892590360\\;0113305305\\;4882046652\\;1384146951\\;9415116094\\\\\n",
    "&&3305727036\\;5759591953\\;0921861173\\;8193261179\\;3105118548\\\\\n",
    "&&0744623799\\;6274956735\\;1885752724\\;8912279381\\;8301194912\\;\\ldots\\end{eqnarray*}$$\n",
    "\n",
    "In dieser Mini-Challenge wollen wir uns mit der Geschichte der Zahl $\\pi$ auseinandersetzen und einige Möglichkeiten anschauen, wie man die Nachkommastellen von $\\pi$ berechnen kann. \n",
    "\n",
    "<b>Team-Mitglieder:</b> Alessio Lopo, Jelle Schutter, Pascal Berger, Raphael Strebel"
   ]
  },
  {
   "cell_type": "markdown",
   "metadata": {},
   "source": [
    "## 1. Die Geschichte der Zahl $\\pi$\n",
    "\n",
    "Historische Dokumente belegen, dass sich die Menschheit schon sehr lange mit der Zahl $\\pi$ beschäftigt.\n",
    "\n",
    "<b><font color=\"red\">Aufgabe</font></b>: Recherchieren Sie mindestens 5 Quellen, welche einen Bezug zu $\\pi$ aufzeigen und geben Sie diese in chronologischer Reihenfolge an:\n",
    "\n",
    "<table>\n",
    "<tbody>\n",
    "<tr>\n",
    "<td><strong>Zeitpunkt</strong></td>\n",
    "<td><strong>Berechnungsprinzip</strong></td>\n",
    "<td><strong>N&auml;herungswert</strong></td>\n",
    "<td><strong>Genauigkeit</strong></td>\n",
    "<td><strong>Person</strong></td>\n",
    "<td><strong>Quelle</strong></td>\n",
    "</tr>\n",
    "<tr>\n",
    "<td>ca. 250 v. Chr</td>\n",
    "<td>Archimedes Methode</td>\n",
    "<td>3.1408450 &lt; Pi &lt; 3.1428571</td>\n",
    "<td>2 Stellen nach dem Komma</td>\n",
    "<td>Archimedes von Syrakus</td>\n",
    "<td>https://3.141592653589793238462643383279502884197169399375105820974944592.eu/die-geschichte-der-zahl-pi/#archimedes</td>\n",
    "</tr>\n",
    "<tr>\n",
    "<td>1621</td>\n",
    "<td>Archimedes Methode bis 2<sup>62</sup> Ecken</td>\n",
    "<td>3.14159265358979323846264338327950288</td>\n",
    "<td>35 Stellen nach dem Komma</td>\n",
    "<td>Ludolph van Ceulen</td>\n",
    "<td>https://3.141592653589793238462643383279502884197169399375105820974944592.eu/die-geschichte-der-zahl-pi/ludolph-van-ceulen-und-die-ludolphsche-zahl/</td>\n",
    "</tr>\n",
    "<tr>\n",
    "<td>1707</td>\n",
    "<td>Arcustangens Reihe unter Zuhilfenahme des Additionstheorems</td>\n",
    "<td>Pi auf 100 Stellen</td>\n",
    "<td>100 Stellen</td>\n",
    "<td>John Machin</td>\n",
    "<td>https://3.141592653589793238462643383279502884197169399375105820974944592.eu/#john-machin</td>\n",
    "</tr>\n",
    "<tr>\n",
    "<td>1844</td>\n",
    "<td>Arcustangens Reihe unter Zuhilfenahme des Additionstheorems</td>\n",
    "<td>Pi auf 200 Stellen</td>\n",
    "<td>200 Stellen</td>\n",
    "<td>Johann Martin Zacharias Dase</td>\n",
    "<td>http://www.scientificlib.com/en/Mathematics/Biographies/JohannDase.html</td>\n",
    "</tr>\n",
    "<tr>\n",
    "<td>1982</td>\n",
    "<td>Gau&szlig; AGM Algorithmus</td>\n",
    "<td>Pi auf&nbsp;10'000'000&nbsp;Stellen</td>\n",
    "<td>10'000'000&nbsp;Stellen</td>\n",
    "<td>Yoshino Kanada</td>\n",
    "<td>https://3.141592653589793238462643383279502884197169399375105820974944592.eu/die-geschichte-der-zahl-pi/</td>\n",
    "</tr>\n",
    "<tr>\n",
    "<td>1988</td>\n",
    "<td>Arithmetischen und geometrischen Ansatz</td>\n",
    "<td>Pi auf&nbsp;16'777'216&nbsp;Stellen</td>\n",
    "<td>16'777'216 Nachkommastellen</td>\n",
    "<td>Yoshiaki Tamura und Tasumasa Kanada</td>\n",
    "<td>http://www.cwscholz.net/projects/fba/</td></tr>\n",
    "</tbody>\n",
    "</table>\n",
    "        "
   ]
  },
  {
   "cell_type": "markdown",
   "metadata": {},
   "source": [
    "## 2. Zwei (klassische) Berechnungsmethoden\n",
    "\n",
    "### Archimedes\n",
    "\n",
    "Der Philosoph, Mathematiker und Physiker Archimedes (287-212 v.Chr.) hat basierend auf der Definition von $\\pi$ die Zahl auf zwei Nachkommastellen angenähert. Dazu hat er einem Einheitskreis ($r=1$) ein Sechseck Um- und Eingeschrieben. Den Kreisumfang $U=2r\\pi=2\\pi$ konnte er zwar nicht numerisch bestimmen, mit den beiden Sechsecken konnte er aber den Kreisumfang abschätzen:\n",
    "\n",
    "<img src=\"regulaeres_n_eck_in_und_um_einheitskreis.PNG\">\n",
    "\n",
    "<b><font color=\"red\">Aufgabe:</font></b>\n",
    "\n",
    "1. Nähern Sie $\\pi$ gemäss dem Vorgehen von Archimedes an (Achtung: nur mit den Elementen der klassischen Geometrie, d.h. ohne trigonometrische Funktionen!).\n",
    "\n",
    "2. Erweitern Sie das Verfahren, indem Sie die Eckenzahl fortlaufend verdoppeln ($6$, $12$, $24$, $48$, $96$, ...). Wie verbessert sich die Genauigkeit der Näherung bei diesem Vorgehen?"
   ]
  },
  {
   "cell_type": "markdown",
   "metadata": {},
   "source": [
    "2.1)"
   ]
  },
  {
   "cell_type": "code",
   "execution_count": 1,
   "metadata": {
    "tags": []
   },
   "outputs": [
    {
     "output_type": "stream",
     "name": "stdout",
     "text": [
      "Lösung:\nPi ist zwischen 3.141592653581438 und 3.1415926536065055. Das Vieleck hat 786432 Ecken.\n"
     ]
    }
   ],
   "source": [
    "# Aufgabe 2.1\n",
    "import math\n",
    "\n",
    "def calc_pi_archimedes_accuracy(genauigkeit_until : int) -> {float, float, int}:\n",
    "    vieleck = 6\n",
    "    radius = 1\n",
    "    c_halbe = radius / 2\n",
    "    b_strich = radius\n",
    "\n",
    "    while(True):\n",
    "        # Seite innen berechnen\n",
    "        b = math.sqrt(radius ** 2 - c_halbe ** 2)\n",
    "        c_strich_halbe = c_halbe * 1 / b / b_strich\n",
    "\n",
    "        umfang1 = c_halbe * vieleck\n",
    "        umfang2 = c_strich_halbe * vieleck\n",
    "\n",
    "        # auf n Stellen nach dem Komma herausfinden\n",
    "        if abs(umfang1 - umfang2) < 10 ** -genauigkeit_until:\n",
    "            break\n",
    "\n",
    "        # Vorbereitung auf nächstes Vieleck\n",
    "        vieleck *= 2\n",
    "        c_halbe = math.sqrt((b_strich - b) ** 2 + c_halbe ** 2) / 2\n",
    "\n",
    "    return c_halbe * vieleck, c_strich_halbe * vieleck, vieleck\n",
    "\n",
    "unteres_pi, oberes_pi, vieleck = calc_pi_archimedes_accuracy(10)\n",
    "\n",
    "\n",
    "# Beispiele/Tests\n",
    "print(\"Lösung:\")\n",
    "print(\"Pi ist zwischen \" + str(unteres_pi) + \" und \" + str(oberes_pi) + \". Das Vieleck hat \" + str(vieleck) + \" Ecken.\")\n"
   ]
  },
  {
   "cell_type": "markdown",
   "metadata": {},
   "source": [
    "2.2)"
   ]
  },
  {
   "cell_type": "code",
   "execution_count": 2,
   "metadata": {},
   "outputs": [
    {
     "output_type": "stream",
     "name": "stdout",
     "text": [
      "Anzahl Ecken         Genauigkeit (in Stellen n.K.)  Rückgabewert                  \n6 Ecken              0                              (3.0, 3.4641016151377553)     \n12 Ecken             0                              (3.105828541230249, 3.2153903091734723)\n24 Ecken             1                              (3.1326286132812378, 3.1596599420975)\n48 Ecken             1                              (3.1393502030468667, 3.146086215131435)\n96 Ecken             2                              (3.14103195089051, 3.1427145996453683)\n192 Ecken            3                              (3.1414524722854624, 3.141873049979824)\n384 Ecken            3                              (3.141557607911858, 3.1416627470568486)\n768 Ecken            3                              (3.1415838921483186, 3.14161017660469)\n1536 Ecken           5                              (3.1415904632280505, 3.141597034321526)\n3072 Ecken           5                              (3.1415921059992717, 3.1415937487713523)\n6144 Ecken           6                              (3.1415925166921577, 3.1415929273850973)\n12288 Ecken          6                              (3.141592619365384, 3.141592722038614)\n24576 Ecken          7                              (3.141592645033691, 3.141592670701998)\n\nEs wird immer genauer :)\nPro vervierfachung wird es etwa eine Stelle genauer (ungefähr).\n"
     ]
    }
   ],
   "source": [
    "\n",
    "# Aufgabe 2.2\n",
    "import math\n",
    "\n",
    "def calc_pi_archimedes_until_corners(max_ecken : int) -> {float, float, int}:\n",
    "    vieleck = 6\n",
    "    radius = 1\n",
    "    c_halbe = radius / 2\n",
    "    b_strich = radius\n",
    "\n",
    "    while(True):\n",
    "        # Seite innen berechnen\n",
    "        b = math.sqrt(radius ** 2 - c_halbe ** 2)\n",
    "        c_strich_halbe = c_halbe * 1 / b / b_strich\n",
    "\n",
    "        umfang1 = c_halbe * vieleck\n",
    "        umfang2 = c_strich_halbe * vieleck\n",
    "        if(vieleck >= max_ecken):\n",
    "            break\n",
    "\n",
    "        # Vorbereitung auf nächstes Vieleck\n",
    "        vieleck *= 2\n",
    "        c_halbe = math.sqrt((b_strich - b) ** 2 + c_halbe ** 2) / 2\n",
    "    \n",
    "\n",
    "    return c_halbe * vieleck, c_strich_halbe * vieleck, vieleck\n",
    "\n",
    "# Insert data into dicitonary \n",
    "table = [\n",
    "    [\"6 Ecken\", str(calc_pi_archimedes_until_corners(6)[0:2]), \"0\"],\n",
    "    [\"12 Ecken\", str(calc_pi_archimedes_until_corners(6 * 2)[0:2]), \"0\"],\n",
    "    [\"24 Ecken\", str(calc_pi_archimedes_until_corners(6 * 2 ** 2)[0:2]), \"1\"],\n",
    "    [\"48 Ecken\", str(calc_pi_archimedes_until_corners(6 * 2 ** 3)[0:2]), \"1\"],\n",
    "    [\"96 Ecken\", str(calc_pi_archimedes_until_corners(6 * 2 ** 4)[0:2]), \"2\"],\n",
    "    [\"192 Ecken\", str(calc_pi_archimedes_until_corners(6 * 2 ** 5)[0:2]), \"3\"],\n",
    "    [\"384 Ecken\", str(calc_pi_archimedes_until_corners(6 * 2 ** 6)[0:2]), \"3\"],\n",
    "    [\"768 Ecken\", str(calc_pi_archimedes_until_corners(6 * 2 ** 7)[0:2]), \"3\"],\n",
    "    [\"1536 Ecken\", str(calc_pi_archimedes_until_corners(6 * 2 ** 8)[0:2]), \"5\"],\n",
    "    [\"3072 Ecken\", str(calc_pi_archimedes_until_corners(6 * 2 ** 9)[0:2]), \"5\"],\n",
    "    [\"6144 Ecken\", str(calc_pi_archimedes_until_corners(6 * 2 ** 10)[0:2]), \"6\"],\n",
    "    [\"12288 Ecken\", str(calc_pi_archimedes_until_corners(6 * 2 ** 11)[0:2]), \"6\"],\n",
    "    [\"24576 Ecken\", str(calc_pi_archimedes_until_corners(6 * 2 ** 12)[0:2]), \"7\"]\n",
    "] \n",
    "  \n",
    "# Print the names of the columns. \n",
    "print (\"{:<20} {:<30} {:<30}\".format('Anzahl Ecken', 'Genauigkeit (in Stellen n.K.)', 'Rückgabewert')) \n",
    "  \n",
    "# Print each data item. \n",
    "for row in table: \n",
    "    hitpoints, result, time = row \n",
    "    print (\"{:<20} {:<30} {:<30}\".format(hitpoints, time, result)) \n",
    "\n",
    "print('\\nEs wird immer genauer :)')\n",
    "print('Pro vervierfachung wird es etwa eine Stelle genauer (ungefähr).')"
   ]
  },
  {
   "cell_type": "markdown",
   "metadata": {},
   "source": [
    "### Zufall und $\\pi$ (Monte-Carlo-Methode)\n",
    "\n",
    "Die Zahl $\\pi$ kann auch über das Flächenverhältnis eines Kreises (Radius $r$) zu einem Quadrat (Seitenlänge $s=2r$ - Kreis ist dem Quadrat einbeschrieben) definiert werden:\n",
    "\n",
    "$$\\frac{A_{Kreis}}{A_{Quadrat}}=\\frac{r^2\\cdot \\pi}{\\left(2r\\right)^2}=\\frac{\\pi}{4}$$\n",
    "\n",
    "Um nun eine Näherung für $\\pi$ zu finden, wird mit einem Zufallsgenerator auf eine quadratische Zielscheibe ($-1\\leq x \\leq 1$ und $-1\\leq y \\leq 1$) geschossen ($n$ Schüsse). Befindet sich der Schuss innerhalb des Einheitskreises (Abstand zum Koordinatenursprung kleiner-gleich $1$) so zählen wir den Schuss zu den Treffern. Das Flächenverhältnis lässt sich nun als Verhältnis der Treffer $n_T$ zu den Schüssen $n$ beschreiben:\n",
    "\n",
    "$$\\frac{A_{Kreis}}{A_{Quadrat}}=\\frac{\\pi}{4}=\\frac{n_T}{n}$$\n",
    "\n",
    "<b><font color=\"red\">Aufgabe:</font></b> Implementieren Sie die oben beschriebene Monte-Carlo-Simulation in Python und bestimmen Sie Näherungswerte für $\\pi$ in Abhängigkeit der Anzahl Schüsse $n$ (tabellarische Darstellung). Was kann über den Zusammenhang Genauigkeit und Anzahl Schüsse ausgesagt werden (qualitativ)?"
   ]
  },
  {
   "cell_type": "code",
   "execution_count": 3,
   "metadata": {
    "tags": []
   },
   "outputs": [
    {
     "output_type": "stream",
     "name": "stdout",
     "text": [
      "Hits       Time       Pi\n1000       0.005      3.041825095057034\n10000      0.068      3.127687856751896\n100000     0.493      3.1448766029042936\n1000000    5.3437     3.141103061161988\n10000000   39.7619    3.1416981255372303\n"
     ]
    }
   ],
   "source": [
    "import random\n",
    "import math\n",
    "import time\n",
    "\n",
    "def calc_pi_monte_carlo(hitsToMake):\n",
    "    pi = 0.0\n",
    "    start_time = time.time()\n",
    "    hits = 0\n",
    "    noHits = 0\n",
    "    while(hits < hitsToMake):\n",
    "        guessX = random.uniform(0, 1)\n",
    "        guessY = random.uniform(0, 1)\n",
    "        if(math.sqrt(guessX ** 2 + guessY ** 2) < 1):\n",
    "            hits += 1\n",
    "        else:\n",
    "            noHits += 1\n",
    "        pi = hits / (noHits + hits) * 4\n",
    "    stop_time = time.time()\n",
    "    # calculate the elapsed time in seconds with 4 digits after the comma\n",
    "    time_elapsed = round(stop_time - start_time, 4)\n",
    "    return pi, time_elapsed\n",
    "\n",
    "hits1000, time1000 = calc_pi_monte_carlo(1000)\n",
    "hits10000, time10000 = calc_pi_monte_carlo(10000)\n",
    "hits100000, time100000 = calc_pi_monte_carlo(100000)\n",
    "hits1000000, time1000000 = calc_pi_monte_carlo(1000000)\n",
    "hits10000000, time10000000 = calc_pi_monte_carlo(10000000)\n",
    "\n",
    "# Insert data into tabel \n",
    "table = [\n",
    "    [\"1000\",        hits1000,       time1000], \n",
    "    [\"10000\",       hits10000,      time10000], \n",
    "    [\"100000\",      hits100000,     time100000], \n",
    "    [\"1000000\",     hits1000000,    time1000000],\n",
    "    [\"10000000\",    hits10000000,   time10000000],\n",
    "]\n",
    "  \n",
    "# Print the names of the columns. \n",
    "print (\"{:<10} {:<10} {}\".format('Hits', 'Time', 'Pi')) \n",
    "  \n",
    "# print each data item. \n",
    "for row in table: \n",
    "    hitpoints, result, time = row \n",
    "    print (\"{:<10} {:<10} {}\".format(hitpoints, time, result)) \n",
    "\n"
   ]
  },
  {
   "cell_type": "markdown",
   "metadata": {},
   "source": [
    "Folgende Tabelle wurde generiert:\n",
    "```\n",
    "Hits       Time       Pi        \n",
    "1000       0.002      3.0557677616501144\n",
    "10000      0.022      3.1291559101932256\n",
    "100000     0.169      3.14070351758794\n",
    "1000000    1.6649     3.142408451821772\n",
    "10000000   16.1871    3.141384529105281\n",
    "```\n",
    "\n",
    "Man sieht hier, dass wenn man die Hits verzehnfacht sich das berechnete Ergebnis um etwa eine Stelle mehr an Pi angleicht. Dies wird jedoch zunehmend langsamer, da der Rechenaufwand und damit der Zeitaufwand sich verzehnfacht."
   ]
  },
  {
   "cell_type": "markdown",
   "metadata": {},
   "source": [
    "## 3. Zahlenreihen und die Zahl $\\pi$\n",
    "\n",
    "Eine sehr schöne Technik um die Zahl $\\pi$ (und auch andere irrationale Zahlen) anzunähern basiert auf unendlichen Summen (Zahlenreihen). Eine der bekanntesten Reihen ist nach dem deutschen Mathematiker Gottfried Wilhelm Leibniz benannt:\n",
    "\n",
    "$$\\sum_{k=0}^{\\infty}{\\frac{\\left(-1\\right)^k}{2k+1}}=1-\\frac{1}{3}+\\frac{1}{5}-\\frac{1}{7}+\\frac{1}{9}-+\\ldots=\\frac{\\pi}{4}$$\n",
    "\n",
    "Der Vorteil einer solchen (konvergenten) unendlichen Summe ist, dass wenn die ersten $n$-Summanden zusammengezählt werden ein Näherungswert mit einer bestimmten Genauigkeit resultiert. Möchte man die Genauigkeit erhöhen, müssen einfach weitere Summanden dazugezählt werden.\n",
    "\n",
    "Der Zusammenhang zwischen Zahlenreihen und bestimmten irrationalen Zahlen basiert auf der Möglichkeit bestimmte Funktionen als unendliche Summe von Potenzfunktionen zu beschreiben (Potenzreihen, Taylorreihen, MacLaurin'sche Reihe). Es gilt z.B. für die $\\arctan$-Funktion (wenn $\\left|x\\right|\\leq 1$ gilt):\n",
    "\n",
    "$$\\arctan\\left(x\\right)=\\sum_{k=0}^{\\infty}{\\left(-1\\right)^k\\frac{x^{2k+1}}{2k+1}}=x-\\frac{x^3}{3}+\\frac{x^5}{5}-\\frac{x^7}{7}+\\frac{x^9}{9}-+\\ldots$$\n",
    "\n",
    "Da der Funktionswert der $\\arctan$-Funktion an der Stelle $x=1$ gleich $\\frac{\\pi}{4}$ ist kann mit der Potenzreihe $\\pi$ berechnet werden (man erhält hier gerade die obige Formel von Leibniz)!\n",
    "\n",
    "<b><font color=\"red\">Aufgabe:</font></b>\n",
    "\n",
    "1. Bestimmen Sie mit der Formel von Leibniz $\\pi$ auf $10$ Stellen genau. Wieviele Summanden sind nötig um diese Genauigkeit zu erhalten?\n",
    "\n",
    "2. Finden Sie weitere, schnellere Summenformeln, mit welchen man die Zahl $\\pi$ annähern kann."
   ]
  },
  {
   "cell_type": "code",
   "execution_count": 4,
   "metadata": {
    "tags": []
   },
   "outputs": [
    {
     "output_type": "error",
     "ename": "KeyboardInterrupt",
     "evalue": "",
     "traceback": [
      "\u001b[1;31m---------------------------------------------------------------------------\u001b[0m",
      "\u001b[1;31mKeyboardInterrupt\u001b[0m                         Traceback (most recent call last)",
      "\u001b[1;32m<ipython-input-4-e0ece476a29b>\u001b[0m in \u001b[0;36m<module>\u001b[1;34m\u001b[0m\n\u001b[0;32m     17\u001b[0m     \u001b[1;32mreturn\u001b[0m \u001b[0mtotal\u001b[0m \u001b[1;33m*\u001b[0m \u001b[1;36m4\u001b[0m\u001b[1;33m,\u001b[0m \u001b[0mn\u001b[0m\u001b[1;33m\u001b[0m\u001b[1;33m\u001b[0m\u001b[0m\n\u001b[0;32m     18\u001b[0m \u001b[1;33m\u001b[0m\u001b[0m\n\u001b[1;32m---> 19\u001b[1;33m \u001b[0mpi\u001b[0m\u001b[1;33m,\u001b[0m \u001b[0mn\u001b[0m \u001b[1;33m=\u001b[0m \u001b[0mcalc_pi_leibniz\u001b[0m\u001b[1;33m(\u001b[0m\u001b[1;36m10\u001b[0m\u001b[1;33m)\u001b[0m\u001b[1;33m\u001b[0m\u001b[1;33m\u001b[0m\u001b[0m\n\u001b[0m\u001b[0;32m     20\u001b[0m \u001b[1;33m\u001b[0m\u001b[0m\n\u001b[0;32m     21\u001b[0m \u001b[0mprint\u001b[0m\u001b[1;33m(\u001b[0m\u001b[1;34m\"Erfolg! Es hat \"\u001b[0m \u001b[1;33m+\u001b[0m \u001b[0mstr\u001b[0m\u001b[1;33m(\u001b[0m\u001b[0mn\u001b[0m \u001b[1;33m/\u001b[0m \u001b[1;36m1000000\u001b[0m\u001b[1;33m)\u001b[0m \u001b[1;33m+\u001b[0m \u001b[1;34m\" Millionen Durchläufe gebaucht. Endresultat ist: \"\u001b[0m \u001b[1;33m+\u001b[0m \u001b[0mstr\u001b[0m\u001b[1;33m(\u001b[0m\u001b[0mpi\u001b[0m\u001b[1;33m)\u001b[0m\u001b[1;33m)\u001b[0m\u001b[1;33m\u001b[0m\u001b[1;33m\u001b[0m\u001b[0m\n",
      "\u001b[1;32m<ipython-input-4-e0ece476a29b>\u001b[0m in \u001b[0;36mcalc_pi_leibniz\u001b[1;34m(precision)\u001b[0m\n\u001b[0;32m     13\u001b[0m         \u001b[0mlast\u001b[0m \u001b[1;33m=\u001b[0m \u001b[0mtotal\u001b[0m\u001b[1;33m\u001b[0m\u001b[1;33m\u001b[0m\u001b[0m\n\u001b[0;32m     14\u001b[0m         \u001b[0mn\u001b[0m \u001b[1;33m+=\u001b[0m \u001b[1;36m1\u001b[0m\u001b[1;33m\u001b[0m\u001b[1;33m\u001b[0m\u001b[0m\n\u001b[1;32m---> 15\u001b[1;33m         \u001b[0moperator\u001b[0m \u001b[1;33m*=\u001b[0m \u001b[1;33m-\u001b[0m\u001b[1;36m1\u001b[0m\u001b[1;33m\u001b[0m\u001b[1;33m\u001b[0m\u001b[0m\n\u001b[0m\u001b[0;32m     16\u001b[0m         \u001b[0mtotal\u001b[0m \u001b[1;33m+=\u001b[0m \u001b[0moperator\u001b[0m \u001b[1;33m/\u001b[0m \u001b[1;33m(\u001b[0m\u001b[1;36m2\u001b[0m \u001b[1;33m*\u001b[0m \u001b[0mn\u001b[0m \u001b[1;33m+\u001b[0m \u001b[1;36m1\u001b[0m\u001b[1;33m)\u001b[0m\u001b[1;33m\u001b[0m\u001b[1;33m\u001b[0m\u001b[0m\n\u001b[0;32m     17\u001b[0m     \u001b[1;32mreturn\u001b[0m \u001b[0mtotal\u001b[0m \u001b[1;33m*\u001b[0m \u001b[1;36m4\u001b[0m\u001b[1;33m,\u001b[0m \u001b[0mn\u001b[0m\u001b[1;33m\u001b[0m\u001b[1;33m\u001b[0m\u001b[0m\n",
      "\u001b[1;31mKeyboardInterrupt\u001b[0m: "
     ]
    }
   ],
   "source": [
    "# leistungsoptimierte Version\n",
    "# -> alte, langsamere Version befindet sich ein Code-Block weiter unten\n",
    "def calc_pi_leibniz(precision):\n",
    "    total = 1\n",
    "    last = 0\n",
    "    n = 0\n",
    "    operator = 1\n",
    "    \n",
    "    # Präzision wird durch den Unterschied zweier aufeinanderfolgenden Ergebnissen berechnet.\n",
    "    # Präzision beschreibt die Anzahl Stellen nach dem Komma\n",
    "    difference = 10 ** (-precision - 1)\n",
    "    while abs((last * 4) - (total * 4)) > difference:\n",
    "        last = total\n",
    "        n += 1\n",
    "        operator *= -1\n",
    "        total += operator / (2 * n + 1)\n",
    "    return total * 4, n\n",
    "\n",
    "pi, n = calc_pi_leibniz(10)\n",
    "\n",
    "print(\"Erfolg! Es hat \" + str(n / 1000000) + \" Millionen Durchläufe gebaucht. Endresultat ist: \" + str(pi))\n",
    "\n"
   ]
  },
  {
   "cell_type": "markdown",
   "metadata": {},
   "source": [
    "Folgender Output wurde generiert:\n",
    "\n",
    "Erfolg! Es hat 11330.0 Millionen Durchläufe gebaucht. Endresultat ist: 3.1415926535000693\n",
    "\n",
    "Die erste Berechnung dauerte bei uns etwa 11h auf einem 3.47GHz Prozessor. Folgender Code wurde dabei verwendet:"
   ]
  },
  {
   "cell_type": "code",
   "execution_count": null,
   "metadata": {},
   "outputs": [],
   "source": [
    "# alte, langsamere Version\n",
    "def calc_pi_leibniz_slow(precision):\n",
    "    total = 1\n",
    "    last = 0\n",
    "    n = 0\n",
    "    \n",
    "    # Präzision wird durch den Unterschied zweier aufeinanderfolgenden Ergebnissen berechnet.\n",
    "    # Präzision beschreibt die Anzahl Stellen nach dem Komma\n",
    "    difference = 10 ** (-precision - 1)\n",
    "    while abs((last * 4) - (total * 4)) > difference:\n",
    "        last = total\n",
    "        n += 1\n",
    "        operator *= -1\n",
    "        total += (-1) ** k / (2 * k + 1)\n",
    "    return total * 4, n\n",
    "\n",
    "pi, n = calc_pi_leibniz_slow(10)\n",
    "\n",
    "print(\"Erfolg! Es hat \" + str(n / 1000000) + \" Millionen Durchläufe gebaucht. Endresultat ist: \" + str(pi))"
   ]
  },
  {
   "cell_type": "markdown",
   "metadata": {},
   "source": [
    "### Aufgabe 3.2)\n",
    "#### Folgende Berechnungsmethoden wurde auf dieser Website gefunden:\n",
    "https://3.141592653589793238462643383279502884197169399375105820974944592.eu/pi-berechnen-formeln-und-algorithmen/\n"
   ]
  },
  {
   "cell_type": "code",
   "execution_count": 5,
   "metadata": {},
   "outputs": [
    {
     "output_type": "stream",
     "name": "stdout",
     "text": [
      "3.141592653589793\n"
     ]
    }
   ],
   "source": [
    "# Mit der Formel von Ramanujan:\n",
    "# Diese Folge konvergiert sehr schnell und hat die Genauigkeit des floats schon nach drei Durchgängen erreicht.\n",
    "\n",
    "from math import sqrt, factorial\n",
    "\n",
    "def calc_pi_ramanujan():\n",
    "    n = 0\n",
    "    total = 0\n",
    "    multiplier = sqrt(8) / 9801\n",
    "    while(n < 3):\n",
    "        total += (factorial(4 * n) * (1103 + 26390 * n)) / ((factorial(n) ** 4) * 396 ** (4 * n))\n",
    "        n += 1\n",
    "    return 1 / (multiplier * total)\n",
    "\n",
    "pi = calc_pi_ramanujan()\n",
    "print(pi)"
   ]
  },
  {
   "cell_type": "markdown",
   "metadata": {},
   "source": [
    "In den nachfolgenden Funktionen wurde mit den beiden von Leonhard Euler gefundenen Summenformeln gearbeitet:"
   ]
  },
  {
   "cell_type": "code",
   "execution_count": 6,
   "metadata": {},
   "outputs": [
    {
     "output_type": "stream",
     "name": "stdout",
     "text": [
      "3.1415916986605086\n",
      "3.141592335280288\n"
     ]
    }
   ],
   "source": [
    "def calc_pi_euler_attempts_one(number_of_attempts):\n",
    "    pi = 0\n",
    "\n",
    "    for i in range(1, number_of_attempts + 1):\n",
    "        pi += 1 / (i ** 2)\n",
    "\n",
    "    return (pi * 6) ** 0.5\n",
    "\n",
    "\n",
    "def calc_pi_euler_attempts_two(number_of_attempts):\n",
    "    pi = 0\n",
    "    dividing_number = 1\n",
    "\n",
    "    for i in range(number_of_attempts + 1):\n",
    "        pi += 1 / (dividing_number ** 2)\n",
    "        dividing_number += 2\n",
    "\n",
    "    return (pi * 8) ** 0.5\n",
    "\n",
    "# Tests/Beispiele\n",
    "print(calc_pi_euler_attempts_one(1000000))\n",
    "print(calc_pi_euler_attempts_two(1000000))"
   ]
  },
  {
   "cell_type": "markdown",
   "metadata": {},
   "source": [
    "Hier noch eine Berechnung mit der Arcustangens-Reihe, mit welcher John Machin 100 Stellen von Pi ausgerechnet hat (wie oben erwähnt):"
   ]
  },
  {
   "cell_type": "code",
   "execution_count": 7,
   "metadata": {},
   "outputs": [
    {
     "output_type": "stream",
     "name": "stdout",
     "text": [
      "3.1415926535897936\n"
     ]
    }
   ],
   "source": [
    "import math\n",
    "\n",
    "def calc_pi_john_machin():\n",
    "    return (4 * math.atan(1 / 5) - math.atan(1 / 239)) * 4\n",
    "\n",
    "print(calc_pi_john_machin())"
   ]
  },
  {
   "cell_type": "code",
   "execution_count": null,
   "metadata": {},
   "outputs": [],
   "source": []
  }
 ],
 "metadata": {
  "kernelspec": {
   "display_name": "Python 3",
   "language": "python",
   "name": "python3"
  },
  "language_info": {
   "codemirror_mode": {
    "name": "ipython",
    "version": 3
   },
   "file_extension": ".py",
   "mimetype": "text/x-python",
   "name": "python",
   "nbconvert_exporter": "python",
   "pygments_lexer": "ipython3",
   "version": "3.8.5-final"
  }
 },
 "nbformat": 4,
 "nbformat_minor": 2
}